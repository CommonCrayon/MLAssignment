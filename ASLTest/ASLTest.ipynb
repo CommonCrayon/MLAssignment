{
 "cells": [
  {
   "cell_type": "code",
   "execution_count": 400,
   "metadata": {},
   "outputs": [],
   "source": [
    "import numpy as np\n",
    "from matplotlib import pyplot as plt\n",
    "\n",
    "import os\n",
    "import glob\n",
    "import cv2"
   ]
  },
  {
   "cell_type": "code",
   "execution_count": 401,
   "metadata": {},
   "outputs": [],
   "source": [
    "PIXELSIZE = 32 #28, 32\n",
    "PIXELTIMES = 1024 # 784, 1024\n",
    "\n",
    "MAX_IMAGES_PER_CLASS = 110  # Set the maximum number of images per class\n",
    "TRAIN_SIZE = 3000 # 29 * 110 = 3190"
   ]
  },
  {
   "cell_type": "code",
   "execution_count": 402,
   "metadata": {},
   "outputs": [],
   "source": [
    "root_dir = \"asl_alphabet_train\"\n",
    "image_data = {}"
   ]
  },
  {
   "cell_type": "code",
   "execution_count": 403,
   "metadata": {},
   "outputs": [],
   "source": [
    "for class_folder in os.listdir(root_dir):\n",
    "    class_path = os.path.join(root_dir, class_folder)\n",
    "    if os.path.isdir(class_path):\n",
    "        class_images = []\n",
    "        for image_file in glob.glob(os.path.join(class_path, \"*.jpg\")):  # Change the file extension as needed\n",
    "            class_images.append(image_file)\n",
    "        image_data[class_folder] = class_images"
   ]
  },
  {
   "cell_type": "code",
   "execution_count": 404,
   "metadata": {},
   "outputs": [
    {
     "name": "stdout",
     "output_type": "stream",
     "text": [
      "Class: A\tCount: 3000\n",
      "Class: B\tCount: 3000\n",
      "Class: C\tCount: 3000\n",
      "Class: D\tCount: 3000\n",
      "Class: del\tCount: 3000\n",
      "Class: E\tCount: 3000\n",
      "Class: F\tCount: 3000\n",
      "Class: G\tCount: 3000\n",
      "Class: H\tCount: 3000\n",
      "Class: I\tCount: 3000\n",
      "Class: J\tCount: 3000\n",
      "Class: K\tCount: 3000\n",
      "Class: L\tCount: 3000\n",
      "Class: M\tCount: 3000\n",
      "Class: N\tCount: 3000\n",
      "Class: nothing\tCount: 3000\n",
      "Class: O\tCount: 3000\n",
      "Class: P\tCount: 3000\n",
      "Class: Q\tCount: 3000\n",
      "Class: R\tCount: 3000\n",
      "Class: S\tCount: 3000\n",
      "Class: space\tCount: 3000\n",
      "Class: T\tCount: 3000\n",
      "Class: U\tCount: 3000\n",
      "Class: V\tCount: 3000\n",
      "Class: W\tCount: 3000\n",
      "Class: X\tCount: 3000\n",
      "Class: Y\tCount: 3000\n",
      "Class: Z\tCount: 3000\n"
     ]
    }
   ],
   "source": [
    "for class_name, images in image_data.items():\n",
    "    print(f\"Class: {class_name}\\tCount: {len(images)}\")"
   ]
  },
  {
   "cell_type": "code",
   "execution_count": 405,
   "metadata": {},
   "outputs": [],
   "source": [
    "images = []\n",
    "classes = []\n",
    "classNumber = 0\n",
    "\n",
    "for class_name, image_paths in image_data.items():\n",
    "    class_count = 0  # Initialize a counter for the current class\n",
    "    for image_path in image_paths:\n",
    "        if isinstance(image_path, str) and os.path.exists(image_path):\n",
    "            image = cv2.imread(image_path, 0)\n",
    "            image = cv2.resize(image, (PIXELSIZE, PIXELSIZE), interpolation= cv2.INTER_LINEAR)\n",
    "\n",
    "            if image is not None:  # Check if the image was successfully loaded\n",
    "                images.append(image)\n",
    "                classes.append(classNumber)\n",
    "                class_count += 1\n",
    "                \n",
    "            if class_count >= MAX_IMAGES_PER_CLASS:\n",
    "                break  # Stop loading images for the current class\n",
    "\n",
    "    classNumber += 1"
   ]
  },
  {
   "cell_type": "code",
   "execution_count": 406,
   "metadata": {},
   "outputs": [],
   "source": [
    "import random\n",
    "\n",
    "# Combine the two lists into pairs\n",
    "combined_lists = list(zip(classes, images))\n",
    "\n",
    "# Shuffle the pairs\n",
    "random.shuffle(combined_lists)\n",
    "\n",
    "# Unzip the shuffled pairs back into separate lists\n",
    "classes, images = zip(*combined_lists)"
   ]
  },
  {
   "cell_type": "code",
   "execution_count": 407,
   "metadata": {},
   "outputs": [],
   "source": [
    "classes = np.array(classes)\n",
    "images = np.array(images)"
   ]
  },
  {
   "cell_type": "code",
   "execution_count": 408,
   "metadata": {},
   "outputs": [],
   "source": [
    "images = images.reshape(-1, PIXELTIMES)"
   ]
  },
  {
   "cell_type": "code",
   "execution_count": 409,
   "metadata": {},
   "outputs": [],
   "source": [
    "X_train = images[0:TRAIN_SIZE]\n",
    "y_train = classes[0:TRAIN_SIZE]\n",
    "\n",
    "X_test = images[TRAIN_SIZE:classes.size]\n",
    "y_test = classes[TRAIN_SIZE:images.size]"
   ]
  },
  {
   "cell_type": "code",
   "execution_count": 410,
   "metadata": {},
   "outputs": [],
   "source": [
    "X_train = X_train.T\n",
    "y_train = y_train.T\n",
    "\n",
    "X_test = X_test.T\n",
    "y_test = y_test.T\n",
    "\n",
    "X_train = X_train / 255.\n",
    "X_test = X_test / 255."
   ]
  },
  {
   "cell_type": "code",
   "execution_count": 411,
   "metadata": {},
   "outputs": [
    {
     "name": "stdout",
     "output_type": "stream",
     "text": [
      "(1024, 3000)\n",
      "(3000,)\n"
     ]
    }
   ],
   "source": [
    "print(X_train.shape)\n",
    "print(y_train.shape)"
   ]
  },
  {
   "cell_type": "code",
   "execution_count": 412,
   "metadata": {},
   "outputs": [],
   "source": [
    "def ReLU(Z):\n",
    "    return np.maximum(Z, 0)\n",
    "\n",
    "def softmax(Z):\n",
    "    A = np.exp(Z) / sum(np.exp(Z))\n",
    "    return A\n",
    "\n",
    "def ReLU_deriv(Z):\n",
    "    return Z > 0\n",
    "\n",
    "def one_hot(Y):\n",
    "    one_hot_Y = np.zeros((TRAIN_SIZE, PIXELSIZE))\n",
    "    one_hot_Y[np.arange(TRAIN_SIZE), Y] = 1\n",
    "    one_hot_Y = one_hot_Y.T\n",
    "    return one_hot_Y"
   ]
  },
  {
   "cell_type": "code",
   "execution_count": 413,
   "metadata": {},
   "outputs": [],
   "source": [
    "def init_params():\n",
    "    W1 = np.random.rand(PIXELSIZE, PIXELTIMES) - 0.5\n",
    "    b1 = np.random.rand(PIXELSIZE, 1) - 0.5\n",
    "    W2 = np.random.rand(PIXELSIZE, PIXELSIZE) - 0.5\n",
    "    b2 = np.random.rand(PIXELSIZE, 1) - 0.5\n",
    "    return W1, b1, W2, b2\n",
    "\n",
    "def forward_prop(W1, b1, W2, b2, X):\n",
    "    Z1 = W1.dot(X) + b1\n",
    "    A1 = ReLU(Z1)\n",
    "    Z2 = W2.dot(A1) + b2\n",
    "    A2 = softmax(Z2)\n",
    "    return Z1, A1, Z2, A2\n",
    "\n",
    "def backward_prop(Z1, A1, Z2, A2, W1, W2, X, Y):\n",
    "    one_hot_Y = one_hot(Y)\n",
    "    dZ2 = A2 - one_hot_Y\n",
    "    dW2 = 1 / TRAIN_SIZE * dZ2.dot(A1.T)\n",
    "    db2 = 1 / TRAIN_SIZE * np.sum(dZ2)\n",
    "    dZ1 = W2.T.dot(dZ2) * ReLU_deriv(Z1)\n",
    "    dW1 = 1 / TRAIN_SIZE * dZ1.dot(X.T)\n",
    "    db1 = 1 / TRAIN_SIZE * np.sum(dZ1)\n",
    "    return dW1, db1, dW2, db2\n",
    "\n",
    "def update_params(W1, b1, W2, b2, dW1, db1, dW2, db2, alpha):\n",
    "    W1 = W1 - alpha * dW1\n",
    "    b1 = b1 - alpha * db1    \n",
    "    W2 = W2 - alpha * dW2  \n",
    "    b2 = b2 - alpha * db2    \n",
    "    return W1, b1, W2, b2"
   ]
  },
  {
   "cell_type": "code",
   "execution_count": 423,
   "metadata": {},
   "outputs": [],
   "source": [
    "def get_predictions(A2):\n",
    "    return np.argmax(A2, 0)\n",
    "\n",
    "def get_accuracy(predictions, Y):\n",
    "    return np.sum(predictions == Y) / Y.size\n",
    "\n",
    "def gradient_descent(X, Y, alpha, iterations):\n",
    "    W1, b1, W2, b2 = init_params()\n",
    "\n",
    "    for i in range(iterations):\n",
    "        Z1, A1, Z2, A2 = forward_prop(W1, b1, W2, b2, X)\n",
    "        dW1, db1, dW2, db2 = backward_prop(Z1, A1, Z2, A2, W1, W2, X, Y)\n",
    "        W1, b1, W2, b2 = update_params(W1, b1, W2, b2, dW1, db1, dW2, db2, alpha)\n",
    "        \n",
    "        if i % 100 == 0:\n",
    "            predictions = get_predictions(A2)\n",
    "            print(f\"Iteration: {i}\\t\\tAccuracy: {get_accuracy(predictions, Y) * 100:.2f}%\")\n",
    "    return W1, b1, W2, b2"
   ]
  },
  {
   "cell_type": "code",
   "execution_count": 424,
   "metadata": {},
   "outputs": [
    {
     "name": "stdout",
     "output_type": "stream",
     "text": [
      "Iteration: 0\t\tAccuracy: 3.00%\n",
      "Iteration: 100\t\tAccuracy: 13.43%\n",
      "Iteration: 200\t\tAccuracy: 23.87%\n",
      "Iteration: 300\t\tAccuracy: 35.87%\n",
      "Iteration: 400\t\tAccuracy: 28.90%\n",
      "Iteration: 500\t\tAccuracy: 37.60%\n",
      "Iteration: 600\t\tAccuracy: 38.10%\n",
      "Iteration: 700\t\tAccuracy: 47.30%\n",
      "Iteration: 800\t\tAccuracy: 45.23%\n",
      "Iteration: 900\t\tAccuracy: 46.47%\n"
     ]
    }
   ],
   "source": [
    "W1, b1, W2, b2 = gradient_descent(X_train, y_train, 0.10, 1000)"
   ]
  },
  {
   "cell_type": "code",
   "execution_count": 416,
   "metadata": {},
   "outputs": [],
   "source": [
    "def make_predictions(X, W1, b1, W2, b2):\n",
    "    _, _, _, A2 = forward_prop(W1, b1, W2, b2, X)\n",
    "    predictions = get_predictions(A2)\n",
    "    return predictions\n",
    "\n",
    "def test_prediction(index, W1, b1, W2, b2):\n",
    "    current_image = X_train[:, index, None]\n",
    "    prediction = make_predictions(X_train[:, index, None], W1, b1, W2, b2)\n",
    "    label = y_train[index]\n",
    "    print(\"Prediction: \", prediction)\n",
    "    print(\"Label: \", label)\n",
    "    \n",
    "    current_image = current_image.reshape((PIXELSIZE, PIXELSIZE)) * 255\n",
    "    plt.gray()\n",
    "    plt.imshow(current_image, interpolation='nearest')\n",
    "    plt.show()"
   ]
  },
  {
   "cell_type": "code",
   "execution_count": 417,
   "metadata": {},
   "outputs": [
    {
     "name": "stdout",
     "output_type": "stream",
     "text": [
      "Prediction:  [12]\n",
      "Label:  21\n"
     ]
    },
    {
     "data": {
      "image/png": "[encoded data removed]",
      "text/plain": [
       "<Figure size 640x480 with 1 Axes>"
      ]
     },
     "metadata": {},
     "output_type": "display_data"
    },
    {
     "name": "stdout",
     "output_type": "stream",
     "text": [
      "Prediction:  [4]\n",
      "Label:  4\n"
     ]
    },
    {
     "data": {
      "image/png": "[encoded data removed]",
      "text/plain": [
       "<Figure size 640x480 with 1 Axes>"
      ]
     },
     "metadata": {},
     "output_type": "display_data"
    },
    {
     "name": "stdout",
     "output_type": "stream",
     "text": [
      "Prediction:  [17]\n",
      "Label:  27\n"
     ]
    },
    {
     "data": {
      "image/png": "[encoded data removed]",
      "text/plain": [
       "<Figure size 640x480 with 1 Axes>"
      ]
     },
     "metadata": {},
     "output_type": "display_data"
    },
    {
     "name": "stdout",
     "output_type": "stream",
     "text": [
      "Prediction:  [25]\n",
      "Label:  13\n"
     ]
    },
    {
     "data": {
      "image/png": "[encoded data removed]",
      "text/plain": [
       "<Figure size 640x480 with 1 Axes>"
      ]
     },
     "metadata": {},
     "output_type": "display_data"
    }
   ],
   "source": [
    "test_prediction(0, W1, b1, W2, b2)\n",
    "test_prediction(1, W1, b1, W2, b2)\n",
    "test_prediction(2, W1, b1, W2, b2)\n",
    "test_prediction(3, W1, b1, W2, b2)"
   ]
  },
  {
   "cell_type": "code",
   "execution_count": 418,
   "metadata": {},
   "outputs": [
    {
     "data": {
      "text/plain": [
       "0.4493333333333333"
      ]
     },
     "execution_count": 418,
     "metadata": {},
     "output_type": "execute_result"
    }
   ],
   "source": [
    "dev_predictions = make_predictions(X_train, W1, b1, W2, b2)\n",
    "get_accuracy(dev_predictions, y_train)"
   ]
  }
 ],
 "metadata": {
  "kernelspec": {
   "display_name": "test1",
   "language": "python",
   "name": "python3"
  },
  "language_info": {
   "codemirror_mode": {
    "name": "ipython",
    "version": 3
   },
   "file_extension": ".py",
   "mimetype": "text/x-python",
   "name": "python",
   "nbconvert_exporter": "python",
   "pygments_lexer": "ipython3",
   "version": "3.11.5"
  },
  "orig_nbformat": 4
 },
 "nbformat": 4,
 "nbformat_minor": 2
}
