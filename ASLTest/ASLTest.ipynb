{
 "cells": [
  {
   "cell_type": "code",
   "execution_count": 187,
   "metadata": {},
   "outputs": [],
   "source": [
    "import numpy as np\n",
    "from matplotlib import pyplot as plt\n",
    "\n",
    "import os\n",
    "import glob\n",
    "import cv2"
   ]
  },
  {
   "cell_type": "code",
   "execution_count": 188,
   "metadata": {},
   "outputs": [],
   "source": [
    "PIXELSIZE = 32 #28, 32\n",
    "PIXELTIMES = 1024 # 784, 1024"
   ]
  },
  {
   "cell_type": "code",
   "execution_count": 189,
   "metadata": {},
   "outputs": [],
   "source": [
    "root_dir = \"asl_alphabet_train\"\n",
    "image_data = {}"
   ]
  },
  {
   "cell_type": "code",
   "execution_count": 190,
   "metadata": {},
   "outputs": [],
   "source": [
    "for class_folder in os.listdir(root_dir):\n",
    "    class_path = os.path.join(root_dir, class_folder)\n",
    "    if os.path.isdir(class_path):\n",
    "        class_images = []\n",
    "        for image_file in glob.glob(os.path.join(class_path, \"*.jpg\")):  # Change the file extension as needed\n",
    "            class_images.append(image_file)\n",
    "        image_data[class_folder] = class_images"
   ]
  },
  {
   "cell_type": "code",
   "execution_count": 191,
   "metadata": {},
   "outputs": [
    {
     "name": "stdout",
     "output_type": "stream",
     "text": [
      "Class: A\tCount: 3000\n",
      "Class: B\tCount: 3000\n",
      "Class: C\tCount: 3000\n",
      "Class: D\tCount: 3000\n",
      "Class: del\tCount: 3000\n",
      "Class: E\tCount: 3000\n",
      "Class: F\tCount: 3000\n",
      "Class: G\tCount: 3000\n",
      "Class: H\tCount: 3000\n",
      "Class: I\tCount: 3000\n",
      "Class: J\tCount: 3000\n",
      "Class: K\tCount: 3000\n",
      "Class: L\tCount: 3000\n",
      "Class: M\tCount: 3000\n",
      "Class: N\tCount: 3000\n",
      "Class: nothing\tCount: 3000\n",
      "Class: O\tCount: 3000\n",
      "Class: P\tCount: 3000\n",
      "Class: Q\tCount: 3000\n",
      "Class: R\tCount: 3000\n",
      "Class: S\tCount: 3000\n",
      "Class: space\tCount: 3000\n",
      "Class: T\tCount: 3000\n",
      "Class: U\tCount: 3000\n",
      "Class: V\tCount: 3000\n",
      "Class: W\tCount: 3000\n",
      "Class: X\tCount: 3000\n",
      "Class: Y\tCount: 3000\n",
      "Class: Z\tCount: 3000\n"
     ]
    }
   ],
   "source": [
    "for class_name, images in image_data.items():\n",
    "    print(f\"Class: {class_name}\\tCount: {len(images)}\")"
   ]
  },
  {
   "cell_type": "code",
   "execution_count": 192,
   "metadata": {},
   "outputs": [],
   "source": [
    "max_images_per_class = 110  # Set the maximum number of images per class\n",
    "classNumber = 0\n",
    "\n",
    "images = []\n",
    "classes = []\n",
    "\n",
    "for class_name, image_paths in image_data.items():\n",
    "    class_count = 0  # Initialize a counter for the current class\n",
    "    for image_path in image_paths:\n",
    "        if isinstance(image_path, str) and os.path.exists(image_path):\n",
    "            image = cv2.imread(image_path, 0)\n",
    "            image = cv2.resize(image, (PIXELSIZE, PIXELSIZE), interpolation= cv2.INTER_LINEAR)\n",
    "\n",
    "            if image is not None:  # Check if the image was successfully loaded\n",
    "                images.append(image)\n",
    "                classes.append(classNumber)\n",
    "                class_count += 1\n",
    "                \n",
    "            if class_count >= max_images_per_class:\n",
    "                break  # Stop loading images for the current class\n",
    "\n",
    "    classNumber += 1"
   ]
  },
  {
   "cell_type": "code",
   "execution_count": 193,
   "metadata": {},
   "outputs": [],
   "source": [
    "import random\n",
    "\n",
    "# Combine the two lists into pairs\n",
    "combined_lists = list(zip(classes, images))\n",
    "\n",
    "# Shuffle the pairs\n",
    "random.shuffle(combined_lists)\n",
    "\n",
    "# Unzip the shuffled pairs back into separate lists\n",
    "classes, images = zip(*combined_lists)"
   ]
  },
  {
   "cell_type": "code",
   "execution_count": 194,
   "metadata": {},
   "outputs": [],
   "source": [
    "classes = np.array(classes)\n",
    "images = np.array(images)"
   ]
  },
  {
   "cell_type": "code",
   "execution_count": 195,
   "metadata": {},
   "outputs": [],
   "source": [
    "images = images.reshape(-1, PIXELTIMES)"
   ]
  },
  {
   "cell_type": "code",
   "execution_count": 196,
   "metadata": {},
   "outputs": [
    {
     "name": "stdout",
     "output_type": "stream",
     "text": [
      "3190 1024\n"
     ]
    }
   ],
   "source": [
    "m, n = images.shape\n",
    "print(m, n)"
   ]
  },
  {
   "cell_type": "code",
   "execution_count": 197,
   "metadata": {},
   "outputs": [],
   "source": [
    "Y_data= classes.T\n",
    "X_data = images.T\n",
    "\n",
    "X_data = X_data / 255."
   ]
  },
  {
   "cell_type": "code",
   "execution_count": 198,
   "metadata": {},
   "outputs": [],
   "source": [
    "X_train = X_data[0:m]\n",
    "y_train = Y_data[0:m]\n",
    "\n",
    "X_test = X_data[3000:m]\n",
    "y_test = Y_data[3000:m]"
   ]
  },
  {
   "cell_type": "code",
   "execution_count": 199,
   "metadata": {},
   "outputs": [],
   "source": [
    "_,m_train = X_train.shape"
   ]
  },
  {
   "cell_type": "code",
   "execution_count": 200,
   "metadata": {},
   "outputs": [
    {
     "name": "stdout",
     "output_type": "stream",
     "text": [
      "[[0.45098039 0.40784314 0.44313725 ... 0.34901961 0.36470588 0.41960784]\n",
      " [0.45098039 0.40784314 0.44313725 ... 0.39607843 0.34117647 0.42745098]\n",
      " [0.44705882 0.40784314 0.43137255 ... 0.37254902 0.36470588 0.40784314]\n",
      " ...\n",
      " [0.58431373 0.43137255 0.56470588 ... 0.49019608 0.48627451 0.34509804]\n",
      " [0.60784314 0.42745098 0.6        ... 0.49803922 0.49019608 0.38431373]\n",
      " [0.63529412 0.41176471 0.62352941 ... 0.52156863 0.50588235 0.47843137]]\n",
      "[ 9 19  9 ... 14 22 10]\n"
     ]
    }
   ],
   "source": [
    "print(X_train)\n",
    "print(y_train)"
   ]
  },
  {
   "cell_type": "code",
   "execution_count": 201,
   "metadata": {},
   "outputs": [],
   "source": [
    "def init_params():\n",
    "    W1 = np.random.rand(PIXELSIZE, PIXELTIMES) - 0.5\n",
    "    b1 = np.random.rand(PIXELSIZE, 1) - 0.5\n",
    "    W2 = np.random.rand(PIXELSIZE, PIXELSIZE) - 0.5\n",
    "    b2 = np.random.rand(PIXELSIZE, 1) - 0.5\n",
    "    return W1, b1, W2, b2\n",
    "\n",
    "def ReLU(Z):\n",
    "    return np.maximum(Z, 0)\n",
    "\n",
    "def softmax(Z):\n",
    "    A = np.exp(Z) / sum(np.exp(Z))\n",
    "    return A\n",
    "    \n",
    "def forward_prop(W1, b1, W2, b2, X):\n",
    "    Z1 = W1.dot(X) + b1\n",
    "    A1 = ReLU(Z1)\n",
    "    Z2 = W2.dot(A1) + b2\n",
    "    A2 = softmax(Z2)\n",
    "    return Z1, A1, Z2, A2\n",
    "\n",
    "def ReLU_deriv(Z):\n",
    "    return Z > 0\n",
    "\n",
    "def one_hot(Y):\n",
    "    one_hot_Y = np.zeros((Y.size, PIXELSIZE))\n",
    "    one_hot_Y[np.arange(Y.size), Y] = 1\n",
    "    one_hot_Y = one_hot_Y.T\n",
    "    return one_hot_Y\n",
    "\n",
    "def backward_prop(Z1, A1, Z2, A2, W1, W2, X, Y):\n",
    "    one_hot_Y = one_hot(Y)\n",
    "    dZ2 = A2 - one_hot_Y\n",
    "    dW2 = 1 / m * dZ2.dot(A1.T)\n",
    "    db2 = 1 / m * np.sum(dZ2)\n",
    "    dZ1 = W2.T.dot(dZ2) * ReLU_deriv(Z1)\n",
    "    dW1 = 1 / m * dZ1.dot(X.T)\n",
    "    db1 = 1 / m * np.sum(dZ1)\n",
    "    return dW1, db1, dW2, db2\n",
    "\n",
    "def update_params(W1, b1, W2, b2, dW1, db1, dW2, db2, alpha):\n",
    "    W1 = W1 - alpha * dW1\n",
    "    b1 = b1 - alpha * db1    \n",
    "    W2 = W2 - alpha * dW2  \n",
    "    b2 = b2 - alpha * db2    \n",
    "    return W1, b1, W2, b2"
   ]
  },
  {
   "cell_type": "code",
   "execution_count": 202,
   "metadata": {},
   "outputs": [],
   "source": [
    "def get_predictions(A2):\n",
    "    return np.argmax(A2, 0)\n",
    "\n",
    "def get_accuracy(predictions, Y):\n",
    "    return np.sum(predictions == Y) / Y.size\n",
    "\n",
    "def gradient_descent(X, Y, alpha, iterations):\n",
    "    W1, b1, W2, b2 = init_params()\n",
    "\n",
    "    for i in range(iterations):\n",
    "        Z1, A1, Z2, A2 = forward_prop(W1, b1, W2, b2, X)\n",
    "        dW1, db1, dW2, db2 = backward_prop(Z1, A1, Z2, A2, W1, W2, X, Y)\n",
    "        W1, b1, W2, b2 = update_params(W1, b1, W2, b2, dW1, db1, dW2, db2, alpha)\n",
    "        \n",
    "        if i % 100 == 0:\n",
    "            predictions = get_predictions(A2)\n",
    "            print(\"Iteration: \", i)\n",
    "            print(\"Accuracy: \" + str(get_accuracy(predictions, Y)))\n",
    "            print(\"================================================\")\n",
    "    return W1, b1, W2, b2"
   ]
  },
  {
   "cell_type": "code",
   "execution_count": 203,
   "metadata": {},
   "outputs": [
    {
     "name": "stdout",
     "output_type": "stream",
     "text": [
      "Iteration:  0\n",
      "Accuracy: 0.025391849529780564\n",
      "================================================\n",
      "Iteration:  100\n",
      "Accuracy: 0.13385579937304076\n",
      "================================================\n",
      "Iteration:  200\n",
      "Accuracy: 0.16959247648902823\n",
      "================================================\n",
      "Iteration:  300\n",
      "Accuracy: 0.23260188087774294\n",
      "================================================\n",
      "Iteration:  400\n",
      "Accuracy: 0.26426332288401255\n",
      "================================================\n",
      "Iteration:  500\n",
      "Accuracy: 0.3266457680250784\n",
      "================================================\n",
      "Iteration:  600\n",
      "Accuracy: 0.3554858934169279\n",
      "================================================\n",
      "Iteration:  700\n",
      "Accuracy: 0.3824451410658307\n",
      "================================================\n",
      "Iteration:  800\n",
      "Accuracy: 0.43667711598746084\n",
      "================================================\n",
      "Iteration:  900\n",
      "Accuracy: 0.4695924764890282\n",
      "================================================\n",
      "Iteration:  1000\n",
      "Accuracy: 0.27774294670846394\n",
      "================================================\n",
      "Iteration:  1100\n",
      "Accuracy: 0.4614420062695925\n",
      "================================================\n",
      "Iteration:  1200\n",
      "Accuracy: 0.4774294670846395\n",
      "================================================\n",
      "Iteration:  1300\n",
      "Accuracy: 0.4398119122257053\n",
      "================================================\n",
      "Iteration:  1400\n",
      "Accuracy: 0.5996865203761755\n",
      "================================================\n",
      "Iteration:  1500\n",
      "Accuracy: 0.54858934169279\n",
      "================================================\n",
      "Iteration:  1600\n",
      "Accuracy: 0.5686520376175549\n",
      "================================================\n",
      "Iteration:  1700\n",
      "Accuracy: 0.5949843260188088\n",
      "================================================\n",
      "Iteration:  1800\n",
      "Accuracy: 0.6163009404388715\n",
      "================================================\n",
      "Iteration:  1900\n",
      "Accuracy: 0.5899686520376175\n",
      "================================================\n",
      "Iteration:  2000\n",
      "Accuracy: 0.661128526645768\n",
      "================================================\n",
      "Iteration:  2100\n",
      "Accuracy: 0.6836990595611285\n",
      "================================================\n",
      "Iteration:  2200\n",
      "Accuracy: 0.6526645768025079\n",
      "================================================\n",
      "Iteration:  2300\n",
      "Accuracy: 0.6178683385579937\n",
      "================================================\n",
      "Iteration:  2400\n",
      "Accuracy: 0.6686520376175549\n",
      "================================================\n",
      "Iteration:  2500\n",
      "Accuracy: 0.5699059561128527\n",
      "================================================\n",
      "Iteration:  2600\n",
      "Accuracy: 0.661128526645768\n",
      "================================================\n",
      "Iteration:  2700\n",
      "Accuracy: 0.75141065830721\n",
      "================================================\n",
      "Iteration:  2800\n",
      "Accuracy: 0.43134796238244516\n",
      "================================================\n",
      "Iteration:  2900\n",
      "Accuracy: 0.7570532915360502\n",
      "================================================\n",
      "Iteration:  3000\n",
      "Accuracy: 0.6877742946708464\n",
      "================================================\n",
      "Iteration:  3100\n",
      "Accuracy: 0.715987460815047\n",
      "================================================\n",
      "Iteration:  3200\n",
      "Accuracy: 0.7278996865203762\n",
      "================================================\n",
      "Iteration:  3300\n",
      "Accuracy: 0.6460815047021944\n",
      "================================================\n",
      "Iteration:  3400\n",
      "Accuracy: 0.6576802507836991\n",
      "================================================\n",
      "Iteration:  3500\n",
      "Accuracy: 0.7275862068965517\n",
      "================================================\n",
      "Iteration:  3600\n",
      "Accuracy: 0.6993730407523511\n",
      "================================================\n",
      "Iteration:  3700\n",
      "Accuracy: 0.7717868338557994\n",
      "================================================\n",
      "Iteration:  3800\n",
      "Accuracy: 0.7075235109717868\n",
      "================================================\n",
      "Iteration:  3900\n",
      "Accuracy: 0.6504702194357367\n",
      "================================================\n",
      "Iteration:  4000\n",
      "Accuracy: 0.7705329153605016\n",
      "================================================\n",
      "Iteration:  4100\n",
      "Accuracy: 0.7583072100313479\n",
      "================================================\n",
      "Iteration:  4200\n",
      "Accuracy: 0.7755485893416928\n",
      "================================================\n",
      "Iteration:  4300\n",
      "Accuracy: 0.7413793103448276\n",
      "================================================\n",
      "Iteration:  4400\n",
      "Accuracy: 0.7824451410658307\n",
      "================================================\n",
      "Iteration:  4500\n",
      "Accuracy: 0.7943573667711599\n",
      "================================================\n",
      "Iteration:  4600\n",
      "Accuracy: 0.8040752351097179\n",
      "================================================\n",
      "Iteration:  4700\n",
      "Accuracy: 0.6768025078369906\n",
      "================================================\n",
      "Iteration:  4800\n",
      "Accuracy: 0.8376175548589342\n",
      "================================================\n",
      "Iteration:  4900\n",
      "Accuracy: 0.8184952978056427\n",
      "================================================\n",
      "Iteration:  5000\n",
      "Accuracy: 0.2567398119122257\n",
      "================================================\n",
      "Iteration:  5100\n",
      "Accuracy: 0.8166144200626959\n",
      "================================================\n",
      "Iteration:  5200\n",
      "Accuracy: 0.8536050156739812\n",
      "================================================\n",
      "Iteration:  5300\n",
      "Accuracy: 0.829153605015674\n",
      "================================================\n",
      "Iteration:  5400\n",
      "Accuracy: 0.8169278996865204\n",
      "================================================\n",
      "Iteration:  5500\n",
      "Accuracy: 0.8250783699059561\n",
      "================================================\n",
      "Iteration:  5600\n",
      "Accuracy: 0.8573667711598746\n",
      "================================================\n",
      "Iteration:  5700\n",
      "Accuracy: 0.7579937304075235\n",
      "================================================\n",
      "Iteration:  5800\n",
      "Accuracy: 0.828526645768025\n",
      "================================================\n",
      "Iteration:  5900\n",
      "Accuracy: 0.3050156739811912\n",
      "================================================\n",
      "Iteration:  6000\n",
      "Accuracy: 0.45203761755485894\n",
      "================================================\n",
      "Iteration:  6100\n",
      "Accuracy: 0.4774294670846395\n",
      "================================================\n",
      "Iteration:  6200\n",
      "Accuracy: 0.5391849529780565\n",
      "================================================\n",
      "Iteration:  6300\n",
      "Accuracy: 0.5884012539184953\n",
      "================================================\n",
      "Iteration:  6400\n",
      "Accuracy: 0.6153605015673981\n",
      "================================================\n",
      "Iteration:  6500\n",
      "Accuracy: 0.6413793103448275\n",
      "================================================\n",
      "Iteration:  6600\n",
      "Accuracy: 0.5721003134796239\n",
      "================================================\n",
      "Iteration:  6700\n",
      "Accuracy: 0.6432601880877743\n",
      "================================================\n",
      "Iteration:  6800\n",
      "Accuracy: 0.6297805642633229\n",
      "================================================\n",
      "Iteration:  6900\n",
      "Accuracy: 0.613166144200627\n",
      "================================================\n",
      "Iteration:  7000\n",
      "Accuracy: 0.6667711598746081\n",
      "================================================\n",
      "Iteration:  7100\n",
      "Accuracy: 0.6448275862068965\n",
      "================================================\n",
      "Iteration:  7200\n",
      "Accuracy: 0.5852664576802508\n",
      "================================================\n",
      "Iteration:  7300\n",
      "Accuracy: 0.6115987460815047\n",
      "================================================\n",
      "Iteration:  7400\n",
      "Accuracy: 0.6836990595611285\n",
      "================================================\n",
      "Iteration:  7500\n",
      "Accuracy: 0.7294670846394984\n",
      "================================================\n",
      "Iteration:  7600\n",
      "Accuracy: 0.7721003134796238\n",
      "================================================\n",
      "Iteration:  7700\n",
      "Accuracy: 0.7608150470219436\n",
      "================================================\n",
      "Iteration:  7800\n",
      "Accuracy: 0.6175548589341693\n",
      "================================================\n",
      "Iteration:  7900\n",
      "Accuracy: 0.661128526645768\n",
      "================================================\n",
      "Iteration:  8000\n",
      "Accuracy: 0.5623824451410658\n",
      "================================================\n",
      "Iteration:  8100\n",
      "Accuracy: 0.23918495297805642\n",
      "================================================\n",
      "Iteration:  8200\n",
      "Accuracy: 0.8137931034482758\n",
      "================================================\n",
      "Iteration:  8300\n",
      "Accuracy: 0.7884012539184952\n",
      "================================================\n",
      "Iteration:  8400\n",
      "Accuracy: 0.41473354231974924\n",
      "================================================\n",
      "Iteration:  8500\n",
      "Accuracy: 0.7827586206896552\n",
      "================================================\n",
      "Iteration:  8600\n",
      "Accuracy: 0.5275862068965518\n",
      "================================================\n",
      "Iteration:  8700\n",
      "Accuracy: 0.7978056426332288\n",
      "================================================\n",
      "Iteration:  8800\n",
      "Accuracy: 0.7285266457680251\n",
      "================================================\n",
      "Iteration:  8900\n",
      "Accuracy: 0.8184952978056427\n",
      "================================================\n",
      "Iteration:  9000\n",
      "Accuracy: 0.7940438871473354\n",
      "================================================\n",
      "Iteration:  9100\n",
      "Accuracy: 0.7329153605015674\n",
      "================================================\n",
      "Iteration:  9200\n",
      "Accuracy: 0.7865203761755486\n",
      "================================================\n",
      "Iteration:  9300\n",
      "Accuracy: 0.8382445141065831\n",
      "================================================\n",
      "Iteration:  9400\n",
      "Accuracy: 0.7401253918495297\n",
      "================================================\n",
      "Iteration:  9500\n",
      "Accuracy: 0.8404388714733543\n",
      "================================================\n",
      "Iteration:  9600\n",
      "Accuracy: 0.8065830721003134\n",
      "================================================\n",
      "Iteration:  9700\n",
      "Accuracy: 0.7774294670846394\n",
      "================================================\n",
      "Iteration:  9800\n",
      "Accuracy: 0.8467084639498432\n",
      "================================================\n",
      "Iteration:  9900\n",
      "Accuracy: 0.8639498432601881\n",
      "================================================\n"
     ]
    }
   ],
   "source": [
    "W1, b1, W2, b2 = gradient_descent(X_train, y_train, 0.10, 10000)"
   ]
  },
  {
   "cell_type": "code",
   "execution_count": 204,
   "metadata": {},
   "outputs": [],
   "source": [
    "def make_predictions(X, W1, b1, W2, b2):\n",
    "    _, _, _, A2 = forward_prop(W1, b1, W2, b2, X)\n",
    "    predictions = get_predictions(A2)\n",
    "    return predictions\n",
    "\n",
    "def test_prediction(index, W1, b1, W2, b2):\n",
    "    current_image = X_train[:, index, None]\n",
    "    prediction = make_predictions(X_train[:, index, None], W1, b1, W2, b2)\n",
    "    label = y_train[index]\n",
    "    print(\"Prediction: \", prediction)\n",
    "    print(\"Label: \", label)\n",
    "    \n",
    "    current_image = current_image.reshape((PIXELSIZE, PIXELSIZE)) * 255\n",
    "    plt.gray()\n",
    "    plt.imshow(current_image, interpolation='nearest')\n",
    "    plt.show()"
   ]
  },
  {
   "cell_type": "code",
   "execution_count": 205,
   "metadata": {},
   "outputs": [
    {
     "name": "stdout",
     "output_type": "stream",
     "text": [
      "Prediction:  [9]\n",
      "Label:  9\n"
     ]
    },
    {
     "data": {
      "image/png": "[encoded data removed]",
      "text/plain": [
       "<Figure size 640x480 with 1 Axes>"
      ]
     },
     "metadata": {},
     "output_type": "display_data"
    },
    {
     "name": "stdout",
     "output_type": "stream",
     "text": [
      "Prediction:  [19]\n",
      "Label:  19\n"
     ]
    },
    {
     "data": {
      "image/png": "[encoded data removed]",
      "text/plain": [
       "<Figure size 640x480 with 1 Axes>"
      ]
     },
     "metadata": {},
     "output_type": "display_data"
    },
    {
     "name": "stdout",
     "output_type": "stream",
     "text": [
      "Prediction:  [9]\n",
      "Label:  9\n"
     ]
    },
    {
     "data": {
      "image/png": "[encoded data removed]",
      "text/plain": [
       "<Figure size 640x480 with 1 Axes>"
      ]
     },
     "metadata": {},
     "output_type": "display_data"
    },
    {
     "name": "stdout",
     "output_type": "stream",
     "text": [
      "Prediction:  [15]\n",
      "Label:  18\n"
     ]
    },
    {
     "data": {
      "image/png": "[encoded data removed]",
      "text/plain": [
       "<Figure size 640x480 with 1 Axes>"
      ]
     },
     "metadata": {},
     "output_type": "display_data"
    }
   ],
   "source": [
    "test_prediction(0, W1, b1, W2, b2)\n",
    "test_prediction(1, W1, b1, W2, b2)\n",
    "test_prediction(2, W1, b1, W2, b2)\n",
    "test_prediction(3, W1, b1, W2, b2)"
   ]
  },
  {
   "cell_type": "code",
   "execution_count": 206,
   "metadata": {},
   "outputs": [
    {
     "data": {
      "text/plain": [
       "0.5648902821316615"
      ]
     },
     "execution_count": 206,
     "metadata": {},
     "output_type": "execute_result"
    }
   ],
   "source": [
    "dev_predictions = make_predictions(X_train, W1, b1, W2, b2)\n",
    "get_accuracy(dev_predictions, y_train)"
   ]
  }
 ],
 "metadata": {
  "kernelspec": {
   "display_name": "test1",
   "language": "python",
   "name": "python3"
  },
  "language_info": {
   "codemirror_mode": {
    "name": "ipython",
    "version": 3
   },
   "file_extension": ".py",
   "mimetype": "text/x-python",
   "name": "python",
   "nbconvert_exporter": "python",
   "pygments_lexer": "ipython3",
   "version": "3.11.5"
  },
  "orig_nbformat": 4
 },
 "nbformat": 4,
 "nbformat_minor": 2
}
