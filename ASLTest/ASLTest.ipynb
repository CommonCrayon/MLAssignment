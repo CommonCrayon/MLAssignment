{
 "cells": [
  {
   "cell_type": "code",
   "execution_count": 145,
   "metadata": {},
   "outputs": [],
   "source": [
    "import numpy as np\n",
    "from matplotlib import pyplot as plt\n",
    "\n",
    "import os\n",
    "import glob\n",
    "import cv2"
   ]
  },
  {
   "cell_type": "code",
   "execution_count": 146,
   "metadata": {},
   "outputs": [],
   "source": [
    "PIXELSIZE = 32 #28, 32\n",
    "PIXELTIMES = 1024 # 784, 1024"
   ]
  },
  {
   "cell_type": "code",
   "execution_count": 147,
   "metadata": {},
   "outputs": [],
   "source": [
    "root_dir = \"asl_alphabet_train\"\n",
    "image_data = {}"
   ]
  },
  {
   "cell_type": "code",
   "execution_count": 148,
   "metadata": {},
   "outputs": [],
   "source": [
    "for class_folder in os.listdir(root_dir):\n",
    "    class_path = os.path.join(root_dir, class_folder)\n",
    "    if os.path.isdir(class_path):\n",
    "        class_images = []\n",
    "        for image_file in glob.glob(os.path.join(class_path, \"*.jpg\")):  # Change the file extension as needed\n",
    "            class_images.append(image_file)\n",
    "        image_data[class_folder] = class_images"
   ]
  },
  {
   "cell_type": "code",
   "execution_count": 149,
   "metadata": {},
   "outputs": [
    {
     "name": "stdout",
     "output_type": "stream",
     "text": [
      "Class: A\tCount: 3000\n",
      "Class: B\tCount: 3000\n",
      "Class: C\tCount: 3000\n",
      "Class: D\tCount: 3000\n",
      "Class: del\tCount: 3000\n",
      "Class: E\tCount: 3000\n",
      "Class: F\tCount: 3000\n",
      "Class: G\tCount: 3000\n",
      "Class: H\tCount: 3000\n",
      "Class: I\tCount: 3000\n",
      "Class: J\tCount: 3000\n",
      "Class: K\tCount: 3000\n",
      "Class: L\tCount: 3000\n",
      "Class: M\tCount: 3000\n",
      "Class: N\tCount: 3000\n",
      "Class: nothing\tCount: 3000\n",
      "Class: O\tCount: 3000\n",
      "Class: P\tCount: 3000\n",
      "Class: Q\tCount: 3000\n",
      "Class: R\tCount: 3000\n",
      "Class: S\tCount: 3000\n",
      "Class: space\tCount: 3000\n",
      "Class: T\tCount: 3000\n",
      "Class: U\tCount: 3000\n",
      "Class: V\tCount: 3000\n",
      "Class: W\tCount: 3000\n",
      "Class: X\tCount: 3000\n",
      "Class: Y\tCount: 3000\n",
      "Class: Z\tCount: 3000\n"
     ]
    }
   ],
   "source": [
    "for class_name, images in image_data.items():\n",
    "    print(f\"Class: {class_name}\\tCount: {len(images)}\")"
   ]
  },
  {
   "cell_type": "code",
   "execution_count": 150,
   "metadata": {},
   "outputs": [],
   "source": [
    "max_images_per_class = 110  # Set the maximum number of images per class\n",
    "classNumber = 0\n",
    "\n",
    "images = []\n",
    "classes = []\n",
    "\n",
    "for class_name, image_paths in image_data.items():\n",
    "    class_count = 0  # Initialize a counter for the current class\n",
    "    for image_path in image_paths:\n",
    "        if isinstance(image_path, str) and os.path.exists(image_path):\n",
    "            image = cv2.imread(image_path, 0)\n",
    "            image = cv2.resize(image, (PIXELSIZE, PIXELSIZE), interpolation= cv2.INTER_LINEAR)\n",
    "\n",
    "            if image is not None:  # Check if the image was successfully loaded\n",
    "                images.append(image)\n",
    "                classes.append(classNumber)\n",
    "                class_count += 1\n",
    "                \n",
    "            if class_count >= max_images_per_class:\n",
    "                break  # Stop loading images for the current class\n",
    "\n",
    "    classNumber += 1"
   ]
  },
  {
   "cell_type": "code",
   "execution_count": 151,
   "metadata": {},
   "outputs": [],
   "source": [
    "import random\n",
    "\n",
    "# Combine the two lists into pairs\n",
    "combined_lists = list(zip(classes, images))\n",
    "\n",
    "# Shuffle the pairs\n",
    "random.shuffle(combined_lists)\n",
    "\n",
    "# Unzip the shuffled pairs back into separate lists\n",
    "classes, images = zip(*combined_lists)"
   ]
  },
  {
   "cell_type": "code",
   "execution_count": 152,
   "metadata": {},
   "outputs": [],
   "source": [
    "classes = np.array(classes)\n",
    "images = np.array(images)"
   ]
  },
  {
   "cell_type": "code",
   "execution_count": 153,
   "metadata": {},
   "outputs": [],
   "source": [
    "images = images.reshape(-1, PIXELTIMES)"
   ]
  },
  {
   "cell_type": "code",
   "execution_count": 154,
   "metadata": {},
   "outputs": [
    {
     "name": "stdout",
     "output_type": "stream",
     "text": [
      "3190 1024\n"
     ]
    }
   ],
   "source": [
    "m, n = images.shape\n",
    "print(m, n)"
   ]
  },
  {
   "cell_type": "code",
   "execution_count": 155,
   "metadata": {},
   "outputs": [],
   "source": [
    "Y_data= classes.T\n",
    "X_data = images.T\n",
    "\n",
    "X_data = X_data / 255."
   ]
  },
  {
   "cell_type": "code",
   "execution_count": 156,
   "metadata": {},
   "outputs": [],
   "source": [
    "X_train = X_data[0:m]\n",
    "y_train = Y_data[0:m]\n",
    "\n",
    "X_test = X_data[3000:m]\n",
    "y_test = Y_data[3000:m]"
   ]
  },
  {
   "cell_type": "code",
   "execution_count": 157,
   "metadata": {},
   "outputs": [],
   "source": [
    "_,m_train = X_train.shape"
   ]
  },
  {
   "cell_type": "code",
   "execution_count": 158,
   "metadata": {},
   "outputs": [
    {
     "name": "stdout",
     "output_type": "stream",
     "text": [
      "[[0.49803922 0.38431373 0.35294118 ... 0.34509804 0.34901961 0.34117647]\n",
      " [0.50980392 0.39607843 0.35686275 ... 0.34117647 0.36862745 0.36470588]\n",
      " [0.51372549 0.38431373 0.33333333 ... 0.35686275 0.36862745 0.37647059]\n",
      " ...\n",
      " [0.65098039 0.49803922 0.47843137 ... 0.45882353 0.45882353 0.49019608]\n",
      " [0.67843137 0.5372549  0.49019608 ... 0.48235294 0.44705882 0.48627451]\n",
      " [0.70588235 0.54509804 0.49411765 ... 0.47843137 0.47843137 0.51764706]]\n",
      "[ 5 16 28 ... 25 26 24]\n"
     ]
    }
   ],
   "source": [
    "print(X_train)\n",
    "print(y_train)"
   ]
  },
  {
   "cell_type": "code",
   "execution_count": 159,
   "metadata": {},
   "outputs": [],
   "source": [
    "def init_params():\n",
    "    W1 = np.random.rand(PIXELSIZE, PIXELTIMES) - 0.5\n",
    "    b1 = np.random.rand(PIXELSIZE, 1) - 0.5\n",
    "    W2 = np.random.rand(PIXELSIZE, PIXELSIZE) - 0.5\n",
    "    b2 = np.random.rand(PIXELSIZE, 1) - 0.5\n",
    "    return W1, b1, W2, b2\n",
    "\n",
    "def ReLU(Z):\n",
    "    return np.maximum(Z, 0)\n",
    "\n",
    "def softmax(Z):\n",
    "    A = np.exp(Z) / sum(np.exp(Z))\n",
    "    return A\n",
    "    \n",
    "def forward_prop(W1, b1, W2, b2, X):\n",
    "    Z1 = W1.dot(X) + b1\n",
    "    A1 = ReLU(Z1)\n",
    "    Z2 = W2.dot(A1) + b2\n",
    "    A2 = softmax(Z2)\n",
    "    return Z1, A1, Z2, A2\n",
    "\n",
    "def ReLU_deriv(Z):\n",
    "    return Z > 0\n",
    "\n",
    "def one_hot(Y):\n",
    "    one_hot_Y = np.zeros((Y.size, PIXELSIZE))\n",
    "    one_hot_Y[np.arange(Y.size), Y] = 1\n",
    "    one_hot_Y = one_hot_Y.T\n",
    "    return one_hot_Y\n",
    "\n",
    "def backward_prop(Z1, A1, Z2, A2, W1, W2, X, Y):\n",
    "    one_hot_Y = one_hot(Y)\n",
    "    dZ2 = A2 - one_hot_Y\n",
    "    dW2 = 1 / m * dZ2.dot(A1.T)\n",
    "    db2 = 1 / m * np.sum(dZ2)\n",
    "    dZ1 = W2.T.dot(dZ2) * ReLU_deriv(Z1)\n",
    "    dW1 = 1 / m * dZ1.dot(X.T)\n",
    "    db1 = 1 / m * np.sum(dZ1)\n",
    "    return dW1, db1, dW2, db2\n",
    "\n",
    "def update_params(W1, b1, W2, b2, dW1, db1, dW2, db2, alpha):\n",
    "    W1 = W1 - alpha * dW1\n",
    "    b1 = b1 - alpha * db1    \n",
    "    W2 = W2 - alpha * dW2  \n",
    "    b2 = b2 - alpha * db2    \n",
    "    return W1, b1, W2, b2"
   ]
  },
  {
   "cell_type": "code",
   "execution_count": 162,
   "metadata": {},
   "outputs": [],
   "source": [
    "def get_predictions(A2):\n",
    "    return np.argmax(A2, 0)\n",
    "\n",
    "def get_accuracy(predictions, Y):\n",
    "    print(predictions, Y)\n",
    "    return np.sum(predictions == Y) / Y.size\n",
    "\n",
    "def gradient_descent(X, Y, alpha, iterations):\n",
    "    W1, b1, W2, b2 = init_params()\n",
    "\n",
    "    for i in range(iterations):\n",
    "        Z1, A1, Z2, A2 = forward_prop(W1, b1, W2, b2, X)\n",
    "        dW1, db1, dW2, db2 = backward_prop(Z1, A1, Z2, A2, W1, W2, X, Y)\n",
    "        W1, b1, W2, b2 = update_params(W1, b1, W2, b2, dW1, db1, dW2, db2, alpha)\n",
    "        \n",
    "        if i % 100 == 0:\n",
    "            predictions = get_predictions(A2)\n",
    "            print(\"Iteration: \", i)\n",
    "            print(\"Accuracy: \" + str(get_accuracy(predictions, Y)))\n",
    "            print(\"================================================\")\n",
    "    return W1, b1, W2, b2"
   ]
  },
  {
   "cell_type": "code",
   "execution_count": 163,
   "metadata": {},
   "outputs": [
    {
     "name": "stdout",
     "output_type": "stream",
     "text": [
      "Iteration:  0\n",
      "[13 13 13 ... 13 13 13] [ 5 16 28 ... 25 26 24]\n",
      "Accuracy: 0.03197492163009404\n",
      "===========================================\n",
      "Iteration:  100\n",
      "[20 15 15 ... 15 15 20] [ 5 16 28 ... 25 26 24]\n",
      "Accuracy: 0.06739811912225706\n",
      "===========================================\n",
      "Iteration:  200\n",
      "[ 1 15 15 ... 15 15 14] [ 5 16 28 ... 25 26 24]\n",
      "Accuracy: 0.11379310344827587\n",
      "===========================================\n",
      "Iteration:  300\n",
      "[ 5  4 23 ... 25 25 25] [ 5 16 28 ... 25 26 24]\n",
      "Accuracy: 0.2225705329153605\n",
      "===========================================\n",
      "Iteration:  400\n",
      "[ 5 28 13 ... 20 20 20] [ 5 16 28 ... 25 26 24]\n",
      "Accuracy: 0.2858934169278997\n",
      "===========================================\n",
      "Iteration:  500\n",
      "[ 5 18 13 ... 25 25 23] [ 5 16 28 ... 25 26 24]\n",
      "Accuracy: 0.3871473354231975\n",
      "===========================================\n",
      "Iteration:  600\n",
      "[ 5 16 14 ... 27 20 20] [ 5 16 28 ... 25 26 24]\n",
      "Accuracy: 0.33699059561128525\n",
      "===========================================\n",
      "Iteration:  700\n",
      "[ 5 21 14 ... 27 27 19] [ 5 16 28 ... 25 26 24]\n",
      "Accuracy: 0.44388714733542317\n",
      "===========================================\n",
      "Iteration:  800\n",
      "[ 5 12 14 ... 27 18 24] [ 5 16 28 ... 25 26 24]\n",
      "Accuracy: 0.39717868338557993\n",
      "===========================================\n",
      "Iteration:  900\n",
      "[ 5 21 14 ... 13 27 27] [ 5 16 28 ... 25 26 24]\n",
      "Accuracy: 0.42382445141065833\n",
      "===========================================\n",
      "Iteration:  1000\n",
      "[ 5 21 14 ... 27 27 28] [ 5 16 28 ... 25 26 24]\n",
      "Accuracy: 0.4824451410658307\n",
      "===========================================\n",
      "Iteration:  1100\n",
      "[ 5 28 28 ... 25 22 22] [ 5 16 28 ... 25 26 24]\n",
      "Accuracy: 0.4445141065830721\n",
      "===========================================\n",
      "Iteration:  1200\n",
      "[ 5 12 14 ... 27 12 11] [ 5 16 28 ... 25 26 24]\n",
      "Accuracy: 0.31786833855799373\n",
      "===========================================\n",
      "Iteration:  1300\n",
      "[ 5 21 28 ... 27 19 22] [ 5 16 28 ... 25 26 24]\n",
      "Accuracy: 0.5971786833855799\n",
      "===========================================\n",
      "Iteration:  1400\n",
      "[ 5 21 14 ... 27 18 23] [ 5 16 28 ... 25 26 24]\n",
      "Accuracy: 0.5789968652037617\n",
      "===========================================\n"
     ]
    }
   ],
   "source": [
    "W1, b1, W2, b2 = gradient_descent(X_train, y_train, 0.10, 10000)"
   ]
  },
  {
   "cell_type": "code",
   "execution_count": null,
   "metadata": {},
   "outputs": [],
   "source": [
    "def make_predictions(X, W1, b1, W2, b2):\n",
    "    _, _, _, A2 = forward_prop(W1, b1, W2, b2, X)\n",
    "    predictions = get_predictions(A2)\n",
    "    return predictions\n",
    "\n",
    "def test_prediction(index, W1, b1, W2, b2):\n",
    "    current_image = X_train[:, index, None]\n",
    "    prediction = make_predictions(X_train[:, index, None], W1, b1, W2, b2)\n",
    "    label = y_train[index]\n",
    "    print(\"Prediction: \", prediction)\n",
    "    print(\"Label: \", label)\n",
    "    \n",
    "    current_image = current_image.reshape((PIXELSIZE, PIXELSIZE)) * 255\n",
    "    plt.gray()\n",
    "    plt.imshow(current_image, interpolation='nearest')\n",
    "    plt.show()"
   ]
  },
  {
   "cell_type": "code",
   "execution_count": null,
   "metadata": {},
   "outputs": [],
   "source": [
    "test_prediction(0, W1, b1, W2, b2)\n",
    "test_prediction(1, W1, b1, W2, b2)\n",
    "test_prediction(2, W1, b1, W2, b2)\n",
    "test_prediction(3, W1, b1, W2, b2)"
   ]
  },
  {
   "cell_type": "code",
   "execution_count": null,
   "metadata": {},
   "outputs": [],
   "source": [
    "dev_predictions = make_predictions(X_train, W1, b1, W2, b2)\n",
    "get_accuracy(dev_predictions, y_train)"
   ]
  }
 ],
 "metadata": {
  "kernelspec": {
   "display_name": "test1",
   "language": "python",
   "name": "python3"
  },
  "language_info": {
   "codemirror_mode": {
    "name": "ipython",
    "version": 3
   },
   "file_extension": ".py",
   "mimetype": "text/x-python",
   "name": "python",
   "nbconvert_exporter": "python",
   "pygments_lexer": "ipython3",
   "version": "3.11.5"
  },
  "orig_nbformat": 4
 },
 "nbformat": 4,
 "nbformat_minor": 2
}
