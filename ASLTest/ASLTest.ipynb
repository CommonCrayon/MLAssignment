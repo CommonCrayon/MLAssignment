{
 "cells": [
  {
   "cell_type": "code",
   "execution_count": 452,
   "metadata": {},
   "outputs": [],
   "source": [
    "import numpy as np\n",
    "from matplotlib import pyplot as plt\n",
    "\n",
    "import os\n",
    "import glob\n",
    "import cv2"
   ]
  },
  {
   "cell_type": "code",
   "execution_count": 453,
   "metadata": {},
   "outputs": [],
   "source": [
    "PIXELSIZE = 32 #28, 32\n",
    "PIXELTIMES = 1024 # 784, 1024\n",
    "\n",
    "MAX_IMAGES_PER_CLASS = 110  # Set the maximum number of images per class\n",
    "TRAIN_SIZE = 3000 # 29 * 110 = 3190"
   ]
  },
  {
   "cell_type": "code",
   "execution_count": 454,
   "metadata": {},
   "outputs": [],
   "source": [
    "root_dir = \"asl_alphabet_train\"\n",
    "image_data = {}"
   ]
  },
  {
   "cell_type": "code",
   "execution_count": 455,
   "metadata": {},
   "outputs": [],
   "source": [
    "for class_folder in os.listdir(root_dir):\n",
    "    class_path = os.path.join(root_dir, class_folder)\n",
    "    if os.path.isdir(class_path):\n",
    "        class_images = []\n",
    "        for image_file in glob.glob(os.path.join(class_path, \"*.jpg\")):  # Change the file extension as needed\n",
    "            class_images.append(image_file)\n",
    "        image_data[class_folder] = class_images"
   ]
  },
  {
   "cell_type": "code",
   "execution_count": 456,
   "metadata": {},
   "outputs": [
    {
     "name": "stdout",
     "output_type": "stream",
     "text": [
      "Class: A\tCount: 3000\n",
      "Class: B\tCount: 3000\n",
      "Class: C\tCount: 3000\n",
      "Class: D\tCount: 3000\n",
      "Class: del\tCount: 3000\n",
      "Class: E\tCount: 3000\n",
      "Class: F\tCount: 3000\n",
      "Class: G\tCount: 3000\n",
      "Class: H\tCount: 3000\n",
      "Class: I\tCount: 3000\n",
      "Class: J\tCount: 3000\n",
      "Class: K\tCount: 3000\n",
      "Class: L\tCount: 3000\n",
      "Class: M\tCount: 3000\n",
      "Class: N\tCount: 3000\n",
      "Class: nothing\tCount: 3000\n",
      "Class: O\tCount: 3000\n",
      "Class: P\tCount: 3000\n",
      "Class: Q\tCount: 3000\n",
      "Class: R\tCount: 3000\n",
      "Class: S\tCount: 3000\n",
      "Class: space\tCount: 3000\n",
      "Class: T\tCount: 3000\n",
      "Class: U\tCount: 3000\n",
      "Class: V\tCount: 3000\n",
      "Class: W\tCount: 3000\n",
      "Class: X\tCount: 3000\n",
      "Class: Y\tCount: 3000\n",
      "Class: Z\tCount: 3000\n"
     ]
    }
   ],
   "source": [
    "for class_name, images in image_data.items():\n",
    "    print(f\"Class: {class_name}\\tCount: {len(images)}\")"
   ]
  },
  {
   "cell_type": "code",
   "execution_count": 457,
   "metadata": {},
   "outputs": [],
   "source": [
    "images = []\n",
    "classes = []\n",
    "classNumber = 0\n",
    "\n",
    "for class_name, image_paths in image_data.items():\n",
    "    class_count = 0  # Initialize a counter for the current class\n",
    "    for image_path in image_paths:\n",
    "        if isinstance(image_path, str) and os.path.exists(image_path):\n",
    "            image = cv2.imread(image_path, 0)\n",
    "            image = cv2.resize(image, (PIXELSIZE, PIXELSIZE), interpolation= cv2.INTER_LINEAR)\n",
    "\n",
    "            if image is not None:  # Check if the image was successfully loaded\n",
    "                images.append(image)\n",
    "                classes.append(classNumber)\n",
    "                class_count += 1\n",
    "                \n",
    "            if class_count >= MAX_IMAGES_PER_CLASS:\n",
    "                break  # Stop loading images for the current class\n",
    "\n",
    "    classNumber += 1"
   ]
  },
  {
   "cell_type": "code",
   "execution_count": 458,
   "metadata": {},
   "outputs": [],
   "source": [
    "import random\n",
    "\n",
    "# Combine the two lists into pairs\n",
    "combined_lists = list(zip(classes, images))\n",
    "\n",
    "# Shuffle the pairs\n",
    "random.shuffle(combined_lists)\n",
    "\n",
    "# Unzip the shuffled pairs back into separate lists\n",
    "classes, images = zip(*combined_lists)"
   ]
  },
  {
   "cell_type": "code",
   "execution_count": 459,
   "metadata": {},
   "outputs": [],
   "source": [
    "classes = np.array(classes)\n",
    "images = np.array(images)"
   ]
  },
  {
   "cell_type": "code",
   "execution_count": 460,
   "metadata": {},
   "outputs": [],
   "source": [
    "images = images.reshape(-1, PIXELTIMES)"
   ]
  },
  {
   "cell_type": "code",
   "execution_count": 461,
   "metadata": {},
   "outputs": [],
   "source": [
    "X_train = images[0:TRAIN_SIZE]\n",
    "y_train = classes[0:TRAIN_SIZE]\n",
    "\n",
    "X_test = images[TRAIN_SIZE:classes.size]\n",
    "y_test = classes[TRAIN_SIZE:images.size]"
   ]
  },
  {
   "cell_type": "code",
   "execution_count": 462,
   "metadata": {},
   "outputs": [],
   "source": [
    "X_train = X_train.T\n",
    "y_train = y_train.T\n",
    "\n",
    "X_test = X_test.T\n",
    "y_test = y_test.T\n",
    "\n",
    "X_train = X_train / 255.\n",
    "X_test = X_test / 255."
   ]
  },
  {
   "cell_type": "code",
   "execution_count": 463,
   "metadata": {},
   "outputs": [
    {
     "name": "stdout",
     "output_type": "stream",
     "text": [
      "(1024, 3000)\n",
      "(3000,)\n"
     ]
    }
   ],
   "source": [
    "print(X_train.shape)\n",
    "print(y_train.shape)"
   ]
  },
  {
   "cell_type": "markdown",
   "metadata": {},
   "source": [
    "# Neural Network Building"
   ]
  },
  {
   "cell_type": "code",
   "execution_count": 464,
   "metadata": {},
   "outputs": [],
   "source": [
    "def ReLU(Z):\n",
    "    return np.maximum(Z, 0)\n",
    "\n",
    "def softmax(Z):\n",
    "    A = np.exp(Z) / sum(np.exp(Z))\n",
    "    return A\n",
    "\n",
    "def ReLU_deriv(Z):\n",
    "    return Z > 0\n",
    "\n",
    "def one_hot(Y):\n",
    "    one_hot_Y = np.zeros((TRAIN_SIZE, PIXELSIZE))\n",
    "    one_hot_Y[np.arange(TRAIN_SIZE), Y] = 1\n",
    "    one_hot_Y = one_hot_Y.T\n",
    "    return one_hot_Y"
   ]
  },
  {
   "cell_type": "code",
   "execution_count": 465,
   "metadata": {},
   "outputs": [],
   "source": [
    "def init_params():\n",
    "    W1 = np.random.rand(PIXELSIZE, PIXELTIMES) - 0.5\n",
    "    b1 = np.random.rand(PIXELSIZE, 1) - 0.5\n",
    "    W2 = np.random.rand(PIXELSIZE, PIXELSIZE) - 0.5\n",
    "    b2 = np.random.rand(PIXELSIZE, 1) - 0.5\n",
    "    return W1, b1, W2, b2\n",
    "\n",
    "def forward_prop(W1, b1, W2, b2, X):\n",
    "    Z1 = W1.dot(X) + b1\n",
    "    A1 = ReLU(Z1)\n",
    "    Z2 = W2.dot(A1) + b2\n",
    "    A2 = softmax(Z2)\n",
    "    return Z1, A1, Z2, A2\n",
    "\n",
    "def backward_prop(Z1, A1, Z2, A2, W1, W2, X, Y):\n",
    "    one_hot_Y = one_hot(Y)\n",
    "    dZ2 = A2 - one_hot_Y\n",
    "    dW2 = 1 / TRAIN_SIZE * dZ2.dot(A1.T)\n",
    "    db2 = 1 / TRAIN_SIZE * np.sum(dZ2)\n",
    "    dZ1 = W2.T.dot(dZ2) * ReLU_deriv(Z1)\n",
    "    dW1 = 1 / TRAIN_SIZE * dZ1.dot(X.T)\n",
    "    db1 = 1 / TRAIN_SIZE * np.sum(dZ1)\n",
    "    return dW1, db1, dW2, db2\n",
    "\n",
    "def update_params(W1, b1, W2, b2, dW1, db1, dW2, db2, alpha):\n",
    "    W1 = W1 - alpha * dW1\n",
    "    b1 = b1 - alpha * db1    \n",
    "    W2 = W2 - alpha * dW2  \n",
    "    b2 = b2 - alpha * db2    \n",
    "    return W1, b1, W2, b2"
   ]
  },
  {
   "cell_type": "code",
   "execution_count": 466,
   "metadata": {},
   "outputs": [],
   "source": [
    "def get_predictions(A2):\n",
    "    return np.argmax(A2, 0)\n",
    "\n",
    "def get_accuracy(predictions, Y):\n",
    "    return np.sum(predictions == Y) / Y.size\n",
    "\n",
    "def gradient_descent(X, Y, alpha, iterations):\n",
    "    W1, b1, W2, b2 = init_params()\n",
    "\n",
    "    for i in range(iterations):\n",
    "        Z1, A1, Z2, A2 = forward_prop(W1, b1, W2, b2, X)\n",
    "        dW1, db1, dW2, db2 = backward_prop(Z1, A1, Z2, A2, W1, W2, X, Y)\n",
    "        W1, b1, W2, b2 = update_params(W1, b1, W2, b2, dW1, db1, dW2, db2, alpha)\n",
    "        \n",
    "        if i % 100 == 0:\n",
    "            predictions = get_predictions(A2)\n",
    "            print(f\"Iteration: {i}\\t\\tAccuracy: {get_accuracy(predictions, Y) * 100:.2f}%\")\n",
    "    return W1, b1, W2, b2"
   ]
  },
  {
   "cell_type": "markdown",
   "metadata": {},
   "source": [
    "# Training the Model"
   ]
  },
  {
   "cell_type": "code",
   "execution_count": 467,
   "metadata": {},
   "outputs": [
    {
     "name": "stdout",
     "output_type": "stream",
     "text": [
      "Iteration: 0\t\tAccuracy: 3.63%\n",
      "Iteration: 100\t\tAccuracy: 7.43%\n",
      "Iteration: 200\t\tAccuracy: 8.53%\n",
      "Iteration: 300\t\tAccuracy: 9.30%\n",
      "Iteration: 400\t\tAccuracy: 15.13%\n",
      "Iteration: 500\t\tAccuracy: 21.97%\n",
      "Iteration: 600\t\tAccuracy: 23.27%\n",
      "Iteration: 700\t\tAccuracy: 23.00%\n",
      "Iteration: 800\t\tAccuracy: 30.13%\n",
      "Iteration: 900\t\tAccuracy: 31.43%\n",
      "Iteration: 1000\t\tAccuracy: 32.10%\n",
      "Iteration: 1100\t\tAccuracy: 32.40%\n",
      "Iteration: 1200\t\tAccuracy: 36.30%\n",
      "Iteration: 1300\t\tAccuracy: 40.40%\n",
      "Iteration: 1400\t\tAccuracy: 38.90%\n",
      "Iteration: 1500\t\tAccuracy: 38.40%\n",
      "Iteration: 1600\t\tAccuracy: 42.13%\n",
      "Iteration: 1700\t\tAccuracy: 34.83%\n",
      "Iteration: 1800\t\tAccuracy: 36.37%\n",
      "Iteration: 1900\t\tAccuracy: 45.00%\n",
      "Iteration: 2000\t\tAccuracy: 52.23%\n",
      "Iteration: 2100\t\tAccuracy: 43.87%\n",
      "Iteration: 2200\t\tAccuracy: 39.07%\n",
      "Iteration: 2300\t\tAccuracy: 52.27%\n",
      "Iteration: 2400\t\tAccuracy: 38.80%\n",
      "Iteration: 2500\t\tAccuracy: 57.10%\n",
      "Iteration: 2600\t\tAccuracy: 55.10%\n",
      "Iteration: 2700\t\tAccuracy: 55.57%\n",
      "Iteration: 2800\t\tAccuracy: 46.63%\n",
      "Iteration: 2900\t\tAccuracy: 63.13%\n",
      "Iteration: 3000\t\tAccuracy: 52.50%\n",
      "Iteration: 3100\t\tAccuracy: 51.67%\n",
      "Iteration: 3200\t\tAccuracy: 56.73%\n",
      "Iteration: 3300\t\tAccuracy: 63.87%\n",
      "Iteration: 3400\t\tAccuracy: 70.13%\n",
      "Iteration: 3500\t\tAccuracy: 66.13%\n",
      "Iteration: 3600\t\tAccuracy: 56.57%\n",
      "Iteration: 3700\t\tAccuracy: 61.33%\n",
      "Iteration: 3800\t\tAccuracy: 61.83%\n",
      "Iteration: 3900\t\tAccuracy: 59.47%\n",
      "Iteration: 4000\t\tAccuracy: 67.60%\n",
      "Iteration: 4100\t\tAccuracy: 64.43%\n",
      "Iteration: 4200\t\tAccuracy: 67.40%\n",
      "Iteration: 4300\t\tAccuracy: 71.00%\n",
      "Iteration: 4400\t\tAccuracy: 69.73%\n",
      "Iteration: 4500\t\tAccuracy: 75.07%\n",
      "Iteration: 4600\t\tAccuracy: 69.57%\n",
      "Iteration: 4700\t\tAccuracy: 70.97%\n",
      "Iteration: 4800\t\tAccuracy: 60.73%\n",
      "Iteration: 4900\t\tAccuracy: 72.50%\n",
      "Iteration: 5000\t\tAccuracy: 65.17%\n",
      "Iteration: 5100\t\tAccuracy: 61.70%\n",
      "Iteration: 5200\t\tAccuracy: 58.00%\n",
      "Iteration: 5300\t\tAccuracy: 70.37%\n",
      "Iteration: 5400\t\tAccuracy: 58.03%\n",
      "Iteration: 5500\t\tAccuracy: 74.27%\n",
      "Iteration: 5600\t\tAccuracy: 72.77%\n",
      "Iteration: 5700\t\tAccuracy: 70.30%\n",
      "Iteration: 5800\t\tAccuracy: 74.63%\n",
      "Iteration: 5900\t\tAccuracy: 39.77%\n",
      "Iteration: 6000\t\tAccuracy: 73.17%\n",
      "Iteration: 6100\t\tAccuracy: 37.33%\n",
      "Iteration: 6200\t\tAccuracy: 74.70%\n",
      "Iteration: 6300\t\tAccuracy: 74.13%\n",
      "Iteration: 6400\t\tAccuracy: 75.20%\n",
      "Iteration: 6500\t\tAccuracy: 78.53%\n",
      "Iteration: 6600\t\tAccuracy: 50.23%\n",
      "Iteration: 6700\t\tAccuracy: 70.97%\n",
      "Iteration: 6800\t\tAccuracy: 46.77%\n",
      "Iteration: 6900\t\tAccuracy: 60.83%\n",
      "Iteration: 7000\t\tAccuracy: 55.03%\n",
      "Iteration: 7100\t\tAccuracy: 66.23%\n",
      "Iteration: 7200\t\tAccuracy: 67.47%\n",
      "Iteration: 7300\t\tAccuracy: 61.10%\n",
      "Iteration: 7400\t\tAccuracy: 69.30%\n",
      "Iteration: 7500\t\tAccuracy: 63.93%\n",
      "Iteration: 7600\t\tAccuracy: 71.47%\n",
      "Iteration: 7700\t\tAccuracy: 65.73%\n",
      "Iteration: 7800\t\tAccuracy: 65.87%\n",
      "Iteration: 7900\t\tAccuracy: 69.40%\n",
      "Iteration: 8000\t\tAccuracy: 67.60%\n",
      "Iteration: 8100\t\tAccuracy: 66.50%\n",
      "Iteration: 8200\t\tAccuracy: 66.53%\n",
      "Iteration: 8300\t\tAccuracy: 69.77%\n",
      "Iteration: 8400\t\tAccuracy: 40.33%\n",
      "Iteration: 8500\t\tAccuracy: 67.00%\n",
      "Iteration: 8600\t\tAccuracy: 62.23%\n",
      "Iteration: 8700\t\tAccuracy: 29.03%\n",
      "Iteration: 8800\t\tAccuracy: 65.27%\n",
      "Iteration: 8900\t\tAccuracy: 71.57%\n",
      "Iteration: 9000\t\tAccuracy: 68.57%\n",
      "Iteration: 9100\t\tAccuracy: 76.07%\n",
      "Iteration: 9200\t\tAccuracy: 69.47%\n",
      "Iteration: 9300\t\tAccuracy: 67.43%\n",
      "Iteration: 9400\t\tAccuracy: 72.70%\n",
      "Iteration: 9500\t\tAccuracy: 56.27%\n",
      "Iteration: 9600\t\tAccuracy: 53.33%\n",
      "Iteration: 9700\t\tAccuracy: 72.33%\n",
      "Iteration: 9800\t\tAccuracy: 74.47%\n",
      "Iteration: 9900\t\tAccuracy: 78.20%\n"
     ]
    }
   ],
   "source": [
    "W1, b1, W2, b2 = gradient_descent(X_train, y_train, 0.10, 10000)"
   ]
  },
  {
   "cell_type": "markdown",
   "metadata": {},
   "source": [
    "# Testing the Model"
   ]
  },
  {
   "cell_type": "code",
   "execution_count": 468,
   "metadata": {},
   "outputs": [],
   "source": [
    "def make_predictions(X, W1, b1, W2, b2):\n",
    "    _, _, _, A2 = forward_prop(W1, b1, W2, b2, X)\n",
    "    predictions = get_predictions(A2)\n",
    "    return predictions"
   ]
  },
  {
   "cell_type": "code",
   "execution_count": 469,
   "metadata": {},
   "outputs": [
    {
     "name": "stdout",
     "output_type": "stream",
     "text": [
      "Test Accuracy: 51.05%\n"
     ]
    }
   ],
   "source": [
    "print(f\"Test Accuracy: {get_accuracy(make_predictions(X_test, W1, b1, W2, b2), y_test) * 100:.2f}%\")"
   ]
  },
  {
   "cell_type": "code",
   "execution_count": 470,
   "metadata": {},
   "outputs": [
    {
     "data": {
      "image/png": "[encoded data removed]",
      "text/plain": [
       "<Figure size 1200x1200 with 4 Axes>"
      ]
     },
     "metadata": {},
     "output_type": "display_data"
    }
   ],
   "source": [
    "# Create a 2x2 subplot\n",
    "fig, axes = plt.subplots(2, 2, figsize=(12, 12))\n",
    "\n",
    "# Define the indices you want to test\n",
    "indices = [0, 1, 2, 3]\n",
    "\n",
    "for i, ax in enumerate(axes.flat):\n",
    "    if i < len(indices):\n",
    "        index = indices[i]\n",
    "        current_image = X_train[:, index, None]\n",
    "        prediction = make_predictions(current_image, W1, b1, W2, b2)\n",
    "        label = y_train[index]\n",
    "        \n",
    "        current_image = current_image.reshape((PIXELSIZE, PIXELSIZE)) * 255\n",
    "        ax.imshow(current_image, interpolation='nearest', cmap='gray')\n",
    "        ax.set_title(f\"Prediction: {prediction}, Label: {label}\")\n",
    "    else:\n",
    "        ax.axis('off')  # Turn off empty subplots\n",
    "\n",
    "plt.tight_layout()\n",
    "plt.show()"
   ]
  }
 ],
 "metadata": {
  "kernelspec": {
   "display_name": "test1",
   "language": "python",
   "name": "python3"
  },
  "language_info": {
   "codemirror_mode": {
    "name": "ipython",
    "version": 3
   },
   "file_extension": ".py",
   "mimetype": "text/x-python",
   "name": "python",
   "nbconvert_exporter": "python",
   "pygments_lexer": "ipython3",
   "version": "3.11.5"
  },
  "orig_nbformat": 4
 },
 "nbformat": 4,
 "nbformat_minor": 2
}
